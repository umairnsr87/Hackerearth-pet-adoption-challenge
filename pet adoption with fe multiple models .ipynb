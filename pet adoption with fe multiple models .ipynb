{
 "cells": [
  {
   "cell_type": "code",
   "execution_count": 1,
   "metadata": {},
   "outputs": [],
   "source": [
    "import pandas as pd \n",
    "import numpy as np\n",
    "import seaborn as sns\n",
    "import matplotlib.pyplot as plt\n",
    "import warnings\n",
    "warnings.filterwarnings(\"ignore\")\n",
    "from lightgbm import LGBMClassifier\n",
    "from sklearn.preprocessing import OrdinalEncoder\n",
    "from sklearn.linear_model import LogisticRegression\n",
    "import scipy.stats as st\n",
    "import sklearn.metrics as metrics\n",
    "from catboost import CatBoostClassifier\n",
    "from sklearn.model_selection import train_test_split,KFold,StratifiedKFold,GridSearchCV,RandomizedSearchCV,cross_val_score\n",
    "from sklearn.ensemble import RandomForestClassifier,BaggingClassifier,AdaBoostClassifier,GradientBoostingClassifier\n",
    "from sklearn.tree import DecisionTreeClassifier\n",
    "from xgboost import XGBClassifier\n",
    "from sklearn.naive_bayes import GaussianNB\n",
    "from sklearn.neighbors import KNeighborsClassifier\n",
    "from sklearn.metrics import r2_score,roc_auc_score,recall_score,classification_report,mean_squared_error,accuracy_score,f1_score,confusion_matrix\n",
    "from sklearn.preprocessing import LabelEncoder\n",
    "from sklearn.ensemble import RandomForestClassifier"
   ]
  },
  {
   "cell_type": "code",
   "execution_count": 4,
   "metadata": {},
   "outputs": [
    {
     "data": {
      "text/plain": [
       "((18834, 19), (8072, 17))"
      ]
     },
     "execution_count": 4,
     "metadata": {},
     "output_type": "execute_result"
    }
   ],
   "source": [
    "train=pd.read_csv(\"train_feature_engineered.csv\")\n",
    "test=pd.read_csv(\"test_feature_engineered.csv\")\n",
    "\n",
    "train.shape,test.shape"
   ]
  },
  {
   "cell_type": "code",
   "execution_count": 23,
   "metadata": {},
   "outputs": [
    {
     "name": "stdout",
     "output_type": "stream",
     "text": [
      "(14125, 13) (14125,) (14125,) (4709, 13) (4709,) (4709,)\n"
     ]
    },
    {
     "data": {
      "text/plain": [
       "((18834, 13), (8072, 13))"
      ]
     },
     "execution_count": 23,
     "metadata": {},
     "output_type": "execute_result"
    }
   ],
   "source": [
    "train_set,val_set=train_test_split(train,test_size=.25,random_state=42)\n",
    "train_set.shape,val_set.shape\n",
    "\n",
    "#train_set\n",
    "train_data=train_set.drop(['pet_id', 'issue_date', 'listing_date','breed_category', 'pet_category','days_stayed']\n",
    "                          ,axis=1)\n",
    "train_res_breed=train_set.breed_category\n",
    "train_res_pet=train_set.pet_category\n",
    "\n",
    "#val_set\n",
    "val_data=val_set.drop(['pet_id', 'issue_date', 'listing_date','breed_category', 'pet_category','days_stayed'],\n",
    "                     axis=1)\n",
    "val_res_breed=val_set.breed_category\n",
    "val_res_pet=val_set.pet_category\n",
    "print(train_data.shape,train_res_breed.shape,train_res_pet.shape,val_data.shape,val_res_breed.shape,val_res_pet.shape)\n",
    "\n",
    "\n",
    "train_full=train.drop(['pet_id', 'issue_date', 'listing_date','breed_category', 'pet_category','days_stayed']\n",
    "                          ,axis=1)\n",
    "train_full_breed=train.breed_category\n",
    "train_full_pet=train.pet_category\n",
    "test_full=test.drop(['pet_id', 'issue_date', 'listing_date','days_stayed']\n",
    "                          ,axis=1)\n",
    "\n",
    "train_full.shape,test_full.shape\n"
   ]
  },
  {
   "cell_type": "code",
   "execution_count": 8,
   "metadata": {},
   "outputs": [],
   "source": [
    "lrc = LogisticRegression()\n",
    "rfc=RandomForestClassifier()\n",
    "adbc=AdaBoostClassifier()\n",
    "bgc=BaggingClassifier()\n",
    "gnb = GaussianNB()\n",
    "knn=KNeighborsClassifier()\n",
    "dtc = DecisionTreeClassifier()\n",
    "bgcl_lrc = BaggingClassifier(base_estimator=lrc, random_state=42)\n",
    "ab_rfc = AdaBoostClassifier(base_estimator=rfc,random_state=42)\n",
    "ab_dtc = AdaBoostClassifier(base_estimator=dtc,random_state=42)\n",
    "ab_nbc=  AdaBoostClassifier(base_estimator=gnb,random_state=42)\n",
    "ab_lrc=  AdaBoostClassifier(base_estimator=lrc,random_state=42)\n",
    "gbc=GradientBoostingClassifier()\n",
    "ab_gbc=  AdaBoostClassifier(base_estimator=gbc,random_state=42)\n",
    "xgbc=XGBClassifier()\n",
    "ab_xgbc=  AdaBoostClassifier(base_estimator=xgbc,random_state=42)\n",
    "lgbc=LGBMClassifier()\n",
    "cat=CatBoostClassifier()"
   ]
  },
  {
   "cell_type": "code",
   "execution_count": 30,
   "metadata": {},
   "outputs": [],
   "source": [
    "models=[rfc,adbc,bgc,gnb,knn,dtc,bgcl_lrc,ab_rfc,ab_dtc,ab_nbc,ab_lrc,gbc,ab_gbc,xgbc,ab_xgbc,lgbc]\n",
    "sctr,scte,ps,rs=[],[],[],[]\n",
    "def ensemble_for_train_val(X_train,y_train,X_test, y_test):\n",
    "    for model in models:\n",
    "        print(model.__class__.__name__)\n",
    "        model.fit(X_train, y_train)\n",
    "        y_test_pred = model.predict(X_test)\n",
    "        y_test_pred_new=model.predict_proba(X_test)\n",
    "        y_test_pred_new=y_test_pred_new[:,1]\n",
    "        train_score=model.score(X_train,y_train)\n",
    "        test_score=model.score(X_test,y_test)\n",
    "        p_score=metrics.precision_score(y_test,y_test_pred,average='micro')\n",
    "        r_score=metrics.recall_score(y_test,y_test_pred,average='micro')\n",
    "        \n",
    "#         ac=metrics.roc_auc_score(y_test,y_test_pred_new,multi_class=\"ovr\",average='micro')\n",
    "#         acc=accuracy_score(y_test,y_test_pred_new)\n",
    "            \n",
    "            \n",
    "        sctr.append(train_score)\n",
    "        scte.append(test_score)\n",
    "        ps.append(p_score)\n",
    "        rs.append(r_score)\n",
    "#         auc.append(ac)\n",
    "#         acc.append(acc)\n",
    "    return sctr,scte,ps,rs\n",
    "\n",
    "\n"
   ]
  },
  {
   "cell_type": "code",
   "execution_count": 31,
   "metadata": {},
   "outputs": [
    {
     "name": "stdout",
     "output_type": "stream",
     "text": [
      "RandomForestClassifier\n",
      "AdaBoostClassifier\n",
      "BaggingClassifier\n",
      "GaussianNB\n",
      "KNeighborsClassifier\n",
      "DecisionTreeClassifier\n",
      "BaggingClassifier\n",
      "AdaBoostClassifier\n",
      "AdaBoostClassifier\n",
      "AdaBoostClassifier\n",
      "AdaBoostClassifier\n",
      "GradientBoostingClassifier\n",
      "AdaBoostClassifier\n",
      "XGBClassifier\n",
      "AdaBoostClassifier\n",
      "LGBMClassifier\n"
     ]
    },
    {
     "data": {
      "text/html": [
       "<div>\n",
       "<style scoped>\n",
       "    .dataframe tbody tr th:only-of-type {\n",
       "        vertical-align: middle;\n",
       "    }\n",
       "\n",
       "    .dataframe tbody tr th {\n",
       "        vertical-align: top;\n",
       "    }\n",
       "\n",
       "    .dataframe thead th {\n",
       "        text-align: right;\n",
       "    }\n",
       "</style>\n",
       "<table border=\"1\" class=\"dataframe\">\n",
       "  <thead>\n",
       "    <tr style=\"text-align: right;\">\n",
       "      <th></th>\n",
       "      <th>names</th>\n",
       "      <th>training</th>\n",
       "      <th>testing</th>\n",
       "      <th>precision</th>\n",
       "      <th>recall</th>\n",
       "    </tr>\n",
       "  </thead>\n",
       "  <tbody>\n",
       "    <tr>\n",
       "      <td>0</td>\n",
       "      <td>Bagging</td>\n",
       "      <td>0.995681</td>\n",
       "      <td>0.903377</td>\n",
       "      <td>0.903377</td>\n",
       "      <td>0.903377</td>\n",
       "    </tr>\n",
       "    <tr>\n",
       "      <td>1</td>\n",
       "      <td>xgboost</td>\n",
       "      <td>0.923965</td>\n",
       "      <td>0.902315</td>\n",
       "      <td>0.902315</td>\n",
       "      <td>0.902315</td>\n",
       "    </tr>\n",
       "    <tr>\n",
       "      <td>2</td>\n",
       "      <td>gradient boosting trees</td>\n",
       "      <td>0.927929</td>\n",
       "      <td>0.902102</td>\n",
       "      <td>0.902102</td>\n",
       "      <td>0.902102</td>\n",
       "    </tr>\n",
       "    <tr>\n",
       "      <td>3</td>\n",
       "      <td>lgbm</td>\n",
       "      <td>0.984425</td>\n",
       "      <td>0.900403</td>\n",
       "      <td>0.900403</td>\n",
       "      <td>0.900403</td>\n",
       "    </tr>\n",
       "    <tr>\n",
       "      <td>4</td>\n",
       "      <td>adaboost dtc</td>\n",
       "      <td>1.000000</td>\n",
       "      <td>0.899554</td>\n",
       "      <td>0.899554</td>\n",
       "      <td>0.899554</td>\n",
       "    </tr>\n",
       "    <tr>\n",
       "      <td>5</td>\n",
       "      <td>Decistion Tree</td>\n",
       "      <td>1.000000</td>\n",
       "      <td>0.899129</td>\n",
       "      <td>0.899129</td>\n",
       "      <td>0.899129</td>\n",
       "    </tr>\n",
       "    <tr>\n",
       "      <td>6</td>\n",
       "      <td>adaboost gbc</td>\n",
       "      <td>1.000000</td>\n",
       "      <td>0.898280</td>\n",
       "      <td>0.898280</td>\n",
       "      <td>0.898280</td>\n",
       "    </tr>\n",
       "    <tr>\n",
       "      <td>7</td>\n",
       "      <td>Random Forest</td>\n",
       "      <td>1.000000</td>\n",
       "      <td>0.896369</td>\n",
       "      <td>0.896369</td>\n",
       "      <td>0.896369</td>\n",
       "    </tr>\n",
       "    <tr>\n",
       "      <td>8</td>\n",
       "      <td>adaboost rf</td>\n",
       "      <td>1.000000</td>\n",
       "      <td>0.895307</td>\n",
       "      <td>0.895307</td>\n",
       "      <td>0.895307</td>\n",
       "    </tr>\n",
       "    <tr>\n",
       "      <td>9</td>\n",
       "      <td>Ada boost</td>\n",
       "      <td>0.889770</td>\n",
       "      <td>0.889786</td>\n",
       "      <td>0.889786</td>\n",
       "      <td>0.889786</td>\n",
       "    </tr>\n",
       "    <tr>\n",
       "      <td>10</td>\n",
       "      <td>Naive-Bayes</td>\n",
       "      <td>0.889274</td>\n",
       "      <td>0.889148</td>\n",
       "      <td>0.889148</td>\n",
       "      <td>0.889148</td>\n",
       "    </tr>\n",
       "    <tr>\n",
       "      <td>11</td>\n",
       "      <td>adaboost naive bayes</td>\n",
       "      <td>0.765239</td>\n",
       "      <td>0.766617</td>\n",
       "      <td>0.766617</td>\n",
       "      <td>0.766617</td>\n",
       "    </tr>\n",
       "    <tr>\n",
       "      <td>12</td>\n",
       "      <td>adaboost logistic regression</td>\n",
       "      <td>0.553628</td>\n",
       "      <td>0.551072</td>\n",
       "      <td>0.551072</td>\n",
       "      <td>0.551072</td>\n",
       "    </tr>\n",
       "    <tr>\n",
       "      <td>13</td>\n",
       "      <td>bagged LR</td>\n",
       "      <td>0.478301</td>\n",
       "      <td>0.481206</td>\n",
       "      <td>0.481206</td>\n",
       "      <td>0.481206</td>\n",
       "    </tr>\n",
       "    <tr>\n",
       "      <td>14</td>\n",
       "      <td>adaboost xgbc</td>\n",
       "      <td>0.477522</td>\n",
       "      <td>0.478870</td>\n",
       "      <td>0.478870</td>\n",
       "      <td>0.478870</td>\n",
       "    </tr>\n",
       "    <tr>\n",
       "      <td>15</td>\n",
       "      <td>KNN</td>\n",
       "      <td>0.639504</td>\n",
       "      <td>0.463580</td>\n",
       "      <td>0.463580</td>\n",
       "      <td>0.463580</td>\n",
       "    </tr>\n",
       "  </tbody>\n",
       "</table>\n",
       "</div>"
      ],
      "text/plain": [
       "                           names  training   testing  precision    recall\n",
       "0                        Bagging  0.995681  0.903377   0.903377  0.903377\n",
       "1                        xgboost  0.923965  0.902315   0.902315  0.902315\n",
       "2        gradient boosting trees  0.927929  0.902102   0.902102  0.902102\n",
       "3                           lgbm  0.984425  0.900403   0.900403  0.900403\n",
       "4                   adaboost dtc  1.000000  0.899554   0.899554  0.899554\n",
       "5                 Decistion Tree  1.000000  0.899129   0.899129  0.899129\n",
       "6                   adaboost gbc  1.000000  0.898280   0.898280  0.898280\n",
       "7                  Random Forest  1.000000  0.896369   0.896369  0.896369\n",
       "8                    adaboost rf  1.000000  0.895307   0.895307  0.895307\n",
       "9                      Ada boost  0.889770  0.889786   0.889786  0.889786\n",
       "10                   Naive-Bayes  0.889274  0.889148   0.889148  0.889148\n",
       "11          adaboost naive bayes  0.765239  0.766617   0.766617  0.766617\n",
       "12  adaboost logistic regression  0.553628  0.551072   0.551072  0.551072\n",
       "13                     bagged LR  0.478301  0.481206   0.481206  0.481206\n",
       "14                 adaboost xgbc  0.477522  0.478870   0.478870  0.478870\n",
       "15                           KNN  0.639504  0.463580   0.463580  0.463580"
      ]
     },
     "execution_count": 31,
     "metadata": {},
     "output_type": "execute_result"
    }
   ],
   "source": [
    "# checking the performance on train and validation\n",
    "ensemble_for_train_val(train_data,train_res_breed, val_data, val_res_breed)\n",
    "# 'ab_rf','ab_dt','ab_nb','ab_lr','bgcl_lr'\n",
    "ensemble1=pd.DataFrame({'names':['Random Forest','Ada boost','Bagging',\n",
    "                                'Naive-Bayes','KNN','Decistion Tree',\n",
    "                                'bagged LR',\"adaboost rf\",\"adaboost dtc\",\"adaboost naive bayes\",\n",
    "                                \"adaboost logistic regression\",\"gradient boosting trees\"\n",
    "                                ,\"adaboost gbc\",\"xgboost\",\"adaboost xgbc\",\"lgbm\"],\n",
    "                       'training':sctr,'testing':scte,'precision':ps,'recall':rs,})\n",
    "ensemble1=ensemble1.sort_values(by='precision',ascending=False).reset_index(drop=True)\n",
    "ensemble1"
   ]
  },
  {
   "cell_type": "code",
   "execution_count": 27,
   "metadata": {
    "scrolled": true
   },
   "outputs": [
    {
     "name": "stdout",
     "output_type": "stream",
     "text": [
      "RandomForestClassifier\n",
      "AdaBoostClassifier\n",
      "BaggingClassifier\n",
      "GaussianNB\n",
      "KNeighborsClassifier\n",
      "DecisionTreeClassifier\n",
      "BaggingClassifier\n",
      "AdaBoostClassifier\n",
      "AdaBoostClassifier\n",
      "AdaBoostClassifier\n"
     ]
    },
    {
     "ename": "ValueError",
     "evalue": "arrays must all be same length",
     "output_type": "error",
     "traceback": [
      "\u001b[1;31m---------------------------------------------------------------------------\u001b[0m",
      "\u001b[1;31mValueError\u001b[0m                                Traceback (most recent call last)",
      "\u001b[1;32m<ipython-input-27-4e5b81c44bd5>\u001b[0m in \u001b[0;36m<module>\u001b[1;34m\u001b[0m\n\u001b[0;32m      7\u001b[0m                                 \u001b[1;34m'bagged LR'\u001b[0m\u001b[1;33m,\u001b[0m\u001b[1;34m\"adaboost rf\"\u001b[0m\u001b[1;33m,\u001b[0m\u001b[1;34m\"adaboost dtc\"\u001b[0m\u001b[1;33m,\u001b[0m\u001b[1;34m\"adaboost naive bayes\"\u001b[0m\u001b[1;33m\u001b[0m\u001b[1;33m\u001b[0m\u001b[0m\n\u001b[0;32m      8\u001b[0m                                 ],\n\u001b[1;32m----> 9\u001b[1;33m                        'training':sctr,'testing':scte,'precision':ps,'recall':rs,})\n\u001b[0m\u001b[0;32m     10\u001b[0m \u001b[0mensemble\u001b[0m\u001b[1;33m=\u001b[0m\u001b[0mensemble\u001b[0m\u001b[1;33m.\u001b[0m\u001b[0msort_values\u001b[0m\u001b[1;33m(\u001b[0m\u001b[0mby\u001b[0m\u001b[1;33m=\u001b[0m\u001b[1;34m'precision'\u001b[0m\u001b[1;33m,\u001b[0m\u001b[0mascending\u001b[0m\u001b[1;33m=\u001b[0m\u001b[1;32mFalse\u001b[0m\u001b[1;33m)\u001b[0m\u001b[1;33m.\u001b[0m\u001b[0mreset_index\u001b[0m\u001b[1;33m(\u001b[0m\u001b[0mdrop\u001b[0m\u001b[1;33m=\u001b[0m\u001b[1;32mTrue\u001b[0m\u001b[1;33m)\u001b[0m\u001b[1;33m\u001b[0m\u001b[1;33m\u001b[0m\u001b[0m\n\u001b[0;32m     11\u001b[0m \u001b[0mensemble\u001b[0m\u001b[1;33m\u001b[0m\u001b[1;33m\u001b[0m\u001b[0m\n",
      "\u001b[1;32m~\\Anaconda3\\lib\\site-packages\\pandas\\core\\frame.py\u001b[0m in \u001b[0;36m__init__\u001b[1;34m(self, data, index, columns, dtype, copy)\u001b[0m\n\u001b[0;32m    409\u001b[0m             )\n\u001b[0;32m    410\u001b[0m         \u001b[1;32melif\u001b[0m \u001b[0misinstance\u001b[0m\u001b[1;33m(\u001b[0m\u001b[0mdata\u001b[0m\u001b[1;33m,\u001b[0m \u001b[0mdict\u001b[0m\u001b[1;33m)\u001b[0m\u001b[1;33m:\u001b[0m\u001b[1;33m\u001b[0m\u001b[1;33m\u001b[0m\u001b[0m\n\u001b[1;32m--> 411\u001b[1;33m             \u001b[0mmgr\u001b[0m \u001b[1;33m=\u001b[0m \u001b[0minit_dict\u001b[0m\u001b[1;33m(\u001b[0m\u001b[0mdata\u001b[0m\u001b[1;33m,\u001b[0m \u001b[0mindex\u001b[0m\u001b[1;33m,\u001b[0m \u001b[0mcolumns\u001b[0m\u001b[1;33m,\u001b[0m \u001b[0mdtype\u001b[0m\u001b[1;33m=\u001b[0m\u001b[0mdtype\u001b[0m\u001b[1;33m)\u001b[0m\u001b[1;33m\u001b[0m\u001b[1;33m\u001b[0m\u001b[0m\n\u001b[0m\u001b[0;32m    412\u001b[0m         \u001b[1;32melif\u001b[0m \u001b[0misinstance\u001b[0m\u001b[1;33m(\u001b[0m\u001b[0mdata\u001b[0m\u001b[1;33m,\u001b[0m \u001b[0mma\u001b[0m\u001b[1;33m.\u001b[0m\u001b[0mMaskedArray\u001b[0m\u001b[1;33m)\u001b[0m\u001b[1;33m:\u001b[0m\u001b[1;33m\u001b[0m\u001b[1;33m\u001b[0m\u001b[0m\n\u001b[0;32m    413\u001b[0m             \u001b[1;32mimport\u001b[0m \u001b[0mnumpy\u001b[0m\u001b[1;33m.\u001b[0m\u001b[0mma\u001b[0m\u001b[1;33m.\u001b[0m\u001b[0mmrecords\u001b[0m \u001b[1;32mas\u001b[0m \u001b[0mmrecords\u001b[0m\u001b[1;33m\u001b[0m\u001b[1;33m\u001b[0m\u001b[0m\n",
      "\u001b[1;32m~\\Anaconda3\\lib\\site-packages\\pandas\\core\\internals\\construction.py\u001b[0m in \u001b[0;36minit_dict\u001b[1;34m(data, index, columns, dtype)\u001b[0m\n\u001b[0;32m    255\u001b[0m             \u001b[0marr\u001b[0m \u001b[1;32mif\u001b[0m \u001b[1;32mnot\u001b[0m \u001b[0mis_datetime64tz_dtype\u001b[0m\u001b[1;33m(\u001b[0m\u001b[0marr\u001b[0m\u001b[1;33m)\u001b[0m \u001b[1;32melse\u001b[0m \u001b[0marr\u001b[0m\u001b[1;33m.\u001b[0m\u001b[0mcopy\u001b[0m\u001b[1;33m(\u001b[0m\u001b[1;33m)\u001b[0m \u001b[1;32mfor\u001b[0m \u001b[0marr\u001b[0m \u001b[1;32min\u001b[0m \u001b[0marrays\u001b[0m\u001b[1;33m\u001b[0m\u001b[1;33m\u001b[0m\u001b[0m\n\u001b[0;32m    256\u001b[0m         ]\n\u001b[1;32m--> 257\u001b[1;33m     \u001b[1;32mreturn\u001b[0m \u001b[0marrays_to_mgr\u001b[0m\u001b[1;33m(\u001b[0m\u001b[0marrays\u001b[0m\u001b[1;33m,\u001b[0m \u001b[0mdata_names\u001b[0m\u001b[1;33m,\u001b[0m \u001b[0mindex\u001b[0m\u001b[1;33m,\u001b[0m \u001b[0mcolumns\u001b[0m\u001b[1;33m,\u001b[0m \u001b[0mdtype\u001b[0m\u001b[1;33m=\u001b[0m\u001b[0mdtype\u001b[0m\u001b[1;33m)\u001b[0m\u001b[1;33m\u001b[0m\u001b[1;33m\u001b[0m\u001b[0m\n\u001b[0m\u001b[0;32m    258\u001b[0m \u001b[1;33m\u001b[0m\u001b[0m\n\u001b[0;32m    259\u001b[0m \u001b[1;33m\u001b[0m\u001b[0m\n",
      "\u001b[1;32m~\\Anaconda3\\lib\\site-packages\\pandas\\core\\internals\\construction.py\u001b[0m in \u001b[0;36marrays_to_mgr\u001b[1;34m(arrays, arr_names, index, columns, dtype)\u001b[0m\n\u001b[0;32m     75\u001b[0m     \u001b[1;31m# figure out the index, if necessary\u001b[0m\u001b[1;33m\u001b[0m\u001b[1;33m\u001b[0m\u001b[1;33m\u001b[0m\u001b[0m\n\u001b[0;32m     76\u001b[0m     \u001b[1;32mif\u001b[0m \u001b[0mindex\u001b[0m \u001b[1;32mis\u001b[0m \u001b[1;32mNone\u001b[0m\u001b[1;33m:\u001b[0m\u001b[1;33m\u001b[0m\u001b[1;33m\u001b[0m\u001b[0m\n\u001b[1;32m---> 77\u001b[1;33m         \u001b[0mindex\u001b[0m \u001b[1;33m=\u001b[0m \u001b[0mextract_index\u001b[0m\u001b[1;33m(\u001b[0m\u001b[0marrays\u001b[0m\u001b[1;33m)\u001b[0m\u001b[1;33m\u001b[0m\u001b[1;33m\u001b[0m\u001b[0m\n\u001b[0m\u001b[0;32m     78\u001b[0m     \u001b[1;32melse\u001b[0m\u001b[1;33m:\u001b[0m\u001b[1;33m\u001b[0m\u001b[1;33m\u001b[0m\u001b[0m\n\u001b[0;32m     79\u001b[0m         \u001b[0mindex\u001b[0m \u001b[1;33m=\u001b[0m \u001b[0mensure_index\u001b[0m\u001b[1;33m(\u001b[0m\u001b[0mindex\u001b[0m\u001b[1;33m)\u001b[0m\u001b[1;33m\u001b[0m\u001b[1;33m\u001b[0m\u001b[0m\n",
      "\u001b[1;32m~\\Anaconda3\\lib\\site-packages\\pandas\\core\\internals\\construction.py\u001b[0m in \u001b[0;36mextract_index\u001b[1;34m(data)\u001b[0m\n\u001b[0;32m    366\u001b[0m             \u001b[0mlengths\u001b[0m \u001b[1;33m=\u001b[0m \u001b[0mlist\u001b[0m\u001b[1;33m(\u001b[0m\u001b[0mset\u001b[0m\u001b[1;33m(\u001b[0m\u001b[0mraw_lengths\u001b[0m\u001b[1;33m)\u001b[0m\u001b[1;33m)\u001b[0m\u001b[1;33m\u001b[0m\u001b[1;33m\u001b[0m\u001b[0m\n\u001b[0;32m    367\u001b[0m             \u001b[1;32mif\u001b[0m \u001b[0mlen\u001b[0m\u001b[1;33m(\u001b[0m\u001b[0mlengths\u001b[0m\u001b[1;33m)\u001b[0m \u001b[1;33m>\u001b[0m \u001b[1;36m1\u001b[0m\u001b[1;33m:\u001b[0m\u001b[1;33m\u001b[0m\u001b[1;33m\u001b[0m\u001b[0m\n\u001b[1;32m--> 368\u001b[1;33m                 \u001b[1;32mraise\u001b[0m \u001b[0mValueError\u001b[0m\u001b[1;33m(\u001b[0m\u001b[1;34m\"arrays must all be same length\"\u001b[0m\u001b[1;33m)\u001b[0m\u001b[1;33m\u001b[0m\u001b[1;33m\u001b[0m\u001b[0m\n\u001b[0m\u001b[0;32m    369\u001b[0m \u001b[1;33m\u001b[0m\u001b[0m\n\u001b[0;32m    370\u001b[0m             \u001b[1;32mif\u001b[0m \u001b[0mhave_dicts\u001b[0m\u001b[1;33m:\u001b[0m\u001b[1;33m\u001b[0m\u001b[1;33m\u001b[0m\u001b[0m\n",
      "\u001b[1;31mValueError\u001b[0m: arrays must all be same length"
     ]
    }
   ],
   "source": [
    "# # checking the performance on train and validation\n",
    "# models=[rfc,adbc,bgc,gnb,knn,dtc,bgcl_lrc,ab_rfc,ab_dtc,ab_nbc]\n",
    "# ensemble_for_train_val(train_data,train_res_breed, val_data, val_res_pet)\n",
    "# # 'ab_rf','ab_dt','ab_nb','ab_lr','bgcl_lr'\n",
    "# ensemble1=pd.DataFrame({'names':['Random Forest','Ada boost','Bagging',\n",
    "#                                 'Naive-Bayes','KNN','Decistion Tree',\n",
    "#                                 'bagged LR',\"adaboost rf\",\"adaboost dtc\",\"adaboost naive bayes\"\n",
    "#                                 ],\n",
    "#                        'training':sctr,'testing':scte,'precision':ps,'recall':rs,})\n",
    "# ensemble=ensemble.sort_values(by='precision',ascending=False).reset_index(drop=True)\n",
    "# ensemble"
   ]
  },
  {
   "cell_type": "code",
   "execution_count": 29,
   "metadata": {},
   "outputs": [
    {
     "name": "stdout",
     "output_type": "stream",
     "text": [
      "LogisticRegression\n",
      "RandomForestClassifier\n",
      "AdaBoostClassifier\n",
      "BaggingClassifier\n",
      "GaussianNB\n",
      "KNeighborsClassifier\n",
      "DecisionTreeClassifier\n",
      "BaggingClassifier\n",
      "GradientBoostingClassifier\n",
      "XGBClassifier\n",
      "LGBMClassifier\n"
     ]
    }
   ],
   "source": [
    "models=[lrc,rfc,adbc,bgc,gnb,knn,dtc,bgcl_lrc,gbc,xgbc,lgbc]\n",
    "\n",
    "\n",
    "def pred_on_full_data(Xtrain,ytrain,ytrain2,Xtest,models):\n",
    "    for model in models:\n",
    "        print(model.__class__.__name__)\n",
    "        model.fit(Xtrain, ytrain)\n",
    "        y_test_pred_breed = model.predict(Xtest)\n",
    "        model.fit(Xtrain, ytrain2)\n",
    "        y_test_pred2_pet=model.predict(Xtest)\n",
    "        id=pd.Series(test[\"pet_id\"])\n",
    "        submission=pd.DataFrame({'pet_id':id,'breed_category':y_test_pred_breed,'pet_category':y_test_pred2_pet})\n",
    "#         predictions=pd.concat([test['INCIDENT_ID'],pd.DataFrame(y_test_pred,columns=['MULTIPLE_OFFENSE'])],1)\n",
    "        a=\"submission_multiple_\"+model.__class__.__name__+\"submission.csv\"\n",
    "        submission.to_csv(a,index=False)\n",
    "        \n",
    "\n",
    "#getting predictions on full data\n",
    "pred_on_full_data(Xtrain=train_full,ytrain=train_full_breed,ytrain2=train_full_pet,Xtest=test_full,models=models)"
   ]
  },
  {
   "cell_type": "code",
   "execution_count": 37,
   "metadata": {},
   "outputs": [
    {
     "name": "stdout",
     "output_type": "stream",
     "text": [
      "LGBMClassifier(boosting_type='gbdt', class_weight=None, colsample_bytree=1.0,\n",
      "               importance_type='split', learning_rate=0.1, max_depth=-1,\n",
      "               min_child_samples=20, min_child_weight=0.001, min_split_gain=0.0,\n",
      "               n_estimators=100, n_jobs=-1, num_leaves=31, objective=None,\n",
      "               random_state=None, reg_alpha=0.0, reg_lambda=0.0, silent=True,\n",
      "               subsample=1.0, subsample_for_bin=200000, subsample_freq=0)\n"
     ]
    },
    {
     "data": {
      "image/png": "[encoded data removed]",
      "text/plain": [
       "<Figure size 576x432 with 1 Axes>"
      ]
     },
     "metadata": {
      "needs_background": "light"
     },
     "output_type": "display_data"
    },
    {
     "name": "stdout",
     "output_type": "stream",
     "text": [
      "LGBMClassifier\n"
     ]
    }
   ],
   "source": [
    "def plot_graph(a):\n",
    "    plt.figure(figsize=(8,6))\n",
    "    chart=sns.barplot(x=a[\"name_of_column\"],y=a[\"feature_importance\"])\n",
    "    chart.set_xticklabels(chart.get_xticklabels(), rotation=90)\n",
    "    plt.show()\n",
    "def feature_importance_plot_rev(dataframe,classifier,limit_of_the_importance):\n",
    "    x=list(zip(dataframe.columns,classifier.feature_importances_))\n",
    "    xx=pd.DataFrame(x)\n",
    "    xx.columns=[\"name_of_column\",\"feature_importance\"]\n",
    "    xx=xx.sort_values(\"feature_importance\",ascending=False)\n",
    "    xx=xx[xx[\"feature_importance\"]>limit_of_the_importance]\n",
    "    plot_graph(xx)\n",
    "    return xx\n",
    "\n",
    "models=[lgbc]\n",
    "for model in models:\n",
    "    print(model)\n",
    "    feature_importance_plot_rev(train_full,model,-1000)\n",
    "    \n",
    "    print(model.__class__.__name__)"
   ]
  }
 ],
 "metadata": {
  "kernelspec": {
   "display_name": "Python 3",
   "language": "python",
   "name": "python3"
  },
  "language_info": {
   "codemirror_mode": {
    "name": "ipython",
    "version": 3
   },
   "file_extension": ".py",
   "mimetype": "text/x-python",
   "name": "python",
   "nbconvert_exporter": "python",
   "pygments_lexer": "ipython3",
   "version": "3.7.4"
  }
 },
 "nbformat": 4,
 "nbformat_minor": 2
}
